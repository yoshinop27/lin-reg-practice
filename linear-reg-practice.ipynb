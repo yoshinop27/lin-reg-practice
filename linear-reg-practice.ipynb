{
 "cells": [
  {
   "cell_type": "code",
   "execution_count": 9,
   "id": "5ada8cf5-6b8f-436d-8919-d75c8c30082f",
   "metadata": {},
   "outputs": [
    {
     "name": "stdout",
     "output_type": "stream",
     "text": [
      "7\n"
     ]
    }
   ],
   "source": [
    "def get_y(m, b, x):\n",
    "    y = m*x + b\n",
    "    return y\n",
    "\n",
    "#print(get_y(1,0,7))cha"
   ]
  },
  {
   "cell_type": "code",
   "execution_count": 10,
   "id": "269a53ec-d72c-4de5-b033-95b8fc99e715",
   "metadata": {},
   "outputs": [],
   "source": [
    "def calculate_error(m,b,point):\n",
    "    x_pt = point[0]\n",
    "    y_pt = point[1]\n",
    "    y_hat = get_y(m, b, x_pt)\n",
    "    diff_y = y_hat-y_pt\n",
    "    return abs(diff_y)"
   ]
  },
  {
   "cell_type": "code",
   "execution_count": 11,
   "id": "4eeba1ee-1737-4a76-aa57-b47ba91c1cf1",
   "metadata": {},
   "outputs": [],
   "source": [
    "datapoints = [(1, 2), (2, 0), (3, 4), (4, 4), (5, 3)]"
   ]
  },
  {
   "cell_type": "code",
   "execution_count": 20,
   "id": "3edd3381-ea16-48ac-8fec-5259835a1063",
   "metadata": {},
   "outputs": [
    {
     "name": "stdout",
     "output_type": "stream",
     "text": [
      "6\n"
     ]
    }
   ],
   "source": [
    "def calc_all_err(m, b, points):\n",
    "    total = 0\n",
    "    for point in points:\n",
    "        total += calculate_error(m, b, point)\n",
    "    return total\n",
    "print(calc_all_err(1, 0, datapoints))"
   ]
  },
  {
   "cell_type": "code",
   "execution_count": 29,
   "id": "e1936c45-7e7d-48aa-8f13-fef365172382",
   "metadata": {},
   "outputs": [],
   "source": [
    "possible_ms = [i/10 for i in range(-100,100,1)]\n",
    "possible_bs = [i/10 for i in range(-200,200,1)]"
   ]
  },
  {
   "cell_type": "code",
   "execution_count": 26,
   "id": "a2e59865-32bb-47c9-9aed-d4e40d909b1e",
   "metadata": {},
   "outputs": [],
   "source": [
    "# vars to optimize\n",
    "min_err = float('inf')\n",
    "best_m = 0\n",
    "best_b = 0"
   ]
  },
  {
   "cell_type": "code",
   "execution_count": 30,
   "id": "aa022107-96a4-4f26-a5d9-b7c9ffa77331",
   "metadata": {},
   "outputs": [],
   "source": [
    "for m in possible_ms:\n",
    "    for b in possible_bs:\n",
    "        total = calc_all_err(m,b,datapoints)\n",
    "        if total < min_err:\n",
    "            best_m = m\n",
    "            best_b = b\n",
    "            min_err = total\n",
    "        "
   ]
  },
  {
   "cell_type": "code",
   "execution_count": 31,
   "id": "d6d6ef05-cd1b-46cc-a5e4-5c5371905420",
   "metadata": {},
   "outputs": [
    {
     "name": "stdout",
     "output_type": "stream",
     "text": [
      "5.0\n",
      "0.4\n",
      "1.6\n"
     ]
    }
   ],
   "source": [
    "print(min_err)\n",
    "print(best_m)\n",
    "print(best_b)"
   ]
  },
  {
   "cell_type": "code",
   "execution_count": 32,
   "id": "b6c9a810-3f8f-4255-8ba5-6a2bd892112a",
   "metadata": {},
   "outputs": [],
   "source": [
    "!git add ."
   ]
  },
  {
   "cell_type": "code",
   "execution_count": 33,
   "id": "dbe0bc91-2beb-4460-8cc1-decb8082ee09",
   "metadata": {},
   "outputs": [
    {
     "name": "stdout",
     "output_type": "stream",
     "text": [
      "On branch main\n",
      "nothing to commit, working tree clean\n"
     ]
    }
   ],
   "source": [
    "!git commit -m 'optimized lin reg model for dataset'"
   ]
  },
  {
   "cell_type": "code",
   "execution_count": null,
   "id": "282b0451-722c-45ff-b012-04c9873114fc",
   "metadata": {},
   "outputs": [],
   "source": []
  }
 ],
 "metadata": {
  "kernelspec": {
   "display_name": "Python [conda env:base] *",
   "language": "python",
   "name": "conda-base-py"
  },
  "language_info": {
   "codemirror_mode": {
    "name": "ipython",
    "version": 3
   },
   "file_extension": ".py",
   "mimetype": "text/x-python",
   "name": "python",
   "nbconvert_exporter": "python",
   "pygments_lexer": "ipython3",
   "version": "3.13.5"
  }
 },
 "nbformat": 4,
 "nbformat_minor": 5
}
